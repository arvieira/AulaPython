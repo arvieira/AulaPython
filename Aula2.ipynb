{
  "nbformat": 4,
  "nbformat_minor": 0,
  "metadata": {
    "colab": {
      "name": "Aula2.ipynb",
      "version": "0.3.2",
      "provenance": [],
      "collapsed_sections": [],
      "include_colab_link": true
    },
    "kernelspec": {
      "name": "python3",
      "display_name": "Python 3"
    }
  },
  "cells": [
    {
      "cell_type": "markdown",
      "metadata": {
        "id": "view-in-github",
        "colab_type": "text"
      },
      "source": [
        "<a href=\"https://colab.research.google.com/github/arvieira/AulaPython/blob/master/Aula2.ipynb\" target=\"_parent\"><img src=\"https://colab.research.google.com/assets/colab-badge.svg\" alt=\"Open In Colab\"/></a>"
      ]
    },
    {
      "metadata": {
        "id": "hP2SxYyKQn5Q",
        "colab_type": "code",
        "outputId": "977df0e4-f209-4edb-bb3a-96ac4ceff035",
        "colab": {
          "base_uri": "https://localhost:8080/",
          "height": 34
        }
      },
      "cell_type": "code",
      "source": [
        "lista = [1, 2, 3, 4, 5, 6, 7]\n",
        "\n",
        "sum (lista)"
      ],
      "execution_count": 0,
      "outputs": [
        {
          "output_type": "execute_result",
          "data": {
            "text/plain": [
              "28"
            ]
          },
          "metadata": {
            "tags": []
          },
          "execution_count": 14
        }
      ]
    },
    {
      "metadata": {
        "id": "iGVX0iU8Rx0I",
        "colab_type": "code",
        "outputId": "cba22c6a-52b1-4d7f-c419-5339631cbb1b",
        "colab": {
          "base_uri": "https://localhost:8080/",
          "height": 34
        }
      },
      "cell_type": "code",
      "source": [
        "flag5 = 5 in lista\n",
        "\n",
        "flag10 = 10 in lista\n",
        "\n",
        "print (flag5, flag10)"
      ],
      "execution_count": 0,
      "outputs": [
        {
          "output_type": "stream",
          "text": [
            "True False\n"
          ],
          "name": "stdout"
        }
      ]
    },
    {
      "metadata": {
        "id": "Zuw1ojInSrNG",
        "colab_type": "code",
        "outputId": "ce2bfe96-bf9a-4cef-b893-9a42bea44519",
        "colab": {
          "base_uri": "https://localhost:8080/",
          "height": 34
        }
      },
      "cell_type": "code",
      "source": [
        "if (flag5):\n",
        "  print (\"Encontrado\")\n",
        "else:\n",
        "  print (\"Não encontrado\")"
      ],
      "execution_count": 0,
      "outputs": [
        {
          "output_type": "stream",
          "text": [
            "Encontrado\n"
          ],
          "name": "stdout"
        }
      ]
    },
    {
      "metadata": {
        "id": "frkOurrmTBkG",
        "colab_type": "code",
        "outputId": "e342fdb3-699e-4cf3-d7d1-b04bfd20d4e2",
        "colab": {
          "base_uri": "https://localhost:8080/",
          "height": 34
        }
      },
      "cell_type": "code",
      "source": [
        "lista.index(6)"
      ],
      "execution_count": 0,
      "outputs": [
        {
          "output_type": "execute_result",
          "data": {
            "text/plain": [
              "5"
            ]
          },
          "metadata": {
            "tags": []
          },
          "execution_count": 19
        }
      ]
    },
    {
      "metadata": {
        "id": "0MTgeHmFTir-",
        "colab_type": "code",
        "outputId": "699a2ef8-c652-4767-f2a8-8510fa50a4ee",
        "colab": {
          "base_uri": "https://localhost:8080/",
          "height": 166
        }
      },
      "cell_type": "code",
      "source": [
        "lista.index(10)"
      ],
      "execution_count": 0,
      "outputs": [
        {
          "output_type": "error",
          "ename": "ValueError",
          "evalue": "ignored",
          "traceback": [
            "\u001b[0;31m---------------------------------------------------------------------------\u001b[0m",
            "\u001b[0;31mValueError\u001b[0m                                Traceback (most recent call last)",
            "\u001b[0;32m<ipython-input-20-cecb1ed8af13>\u001b[0m in \u001b[0;36m<module>\u001b[0;34m()\u001b[0m\n\u001b[0;32m----> 1\u001b[0;31m \u001b[0mlista\u001b[0m\u001b[0;34m.\u001b[0m\u001b[0mindex\u001b[0m\u001b[0;34m(\u001b[0m\u001b[0;36m10\u001b[0m\u001b[0;34m)\u001b[0m\u001b[0;34m\u001b[0m\u001b[0;34m\u001b[0m\u001b[0m\n\u001b[0m",
            "\u001b[0;31mValueError\u001b[0m: 10 is not in list"
          ]
        }
      ]
    },
    {
      "metadata": {
        "id": "FiLIf4EhUNfk",
        "colab_type": "code",
        "outputId": "4ca613cf-55d4-4fd1-8cb1-8d9340dffecb",
        "colab": {
          "base_uri": "https://localhost:8080/",
          "height": 52
        }
      },
      "cell_type": "code",
      "source": [
        "# TRATAMENTO DE EXCEÇÃO\n",
        "#\n",
        "# Quando utilizo o método index() de uma lista, caso o valor não esteja na lista, \n",
        "# ele retorna um erro.\n",
        "# Devo verificar isso como abaixo.\n",
        "\n",
        "valor = 10\n",
        "\n",
        "try:\n",
        "  lista.index(valor)\n",
        "except(ValueError):\n",
        "  print(\"Não está na lista\")\n",
        "  \n",
        "# Quando se utiliza o try e o except para o tratamento da exceção, o programa \n",
        "# não para, de modo que a linha a seguir também será executada.\n",
        "print(\"Teste\")"
      ],
      "execution_count": 0,
      "outputs": [
        {
          "output_type": "stream",
          "text": [
            "Não está na lista\n",
            "Teste\n"
          ],
          "name": "stdout"
        }
      ]
    },
    {
      "metadata": {
        "id": "uWL63bAXXIIk",
        "colab_type": "code",
        "outputId": "b6059824-d5ec-4540-a467-948d9c7dc782",
        "colab": {
          "base_uri": "https://localhost:8080/",
          "height": 34
        }
      },
      "cell_type": "code",
      "source": [
        "# Usando hashmap ou dicionários\n",
        "# As chaves precisam ser valores fixos: Números, Palavras ou Tuplas(conjuntos que não podem ser alterados)\n",
        "boletim = {\n",
        "    \"aluno1\" : 5,\n",
        "    \"aluno2\" : 3,\n",
        "    \"aluno3\" : 4\n",
        "}\n",
        "\n",
        "print (boletim[\"aluno3\"])"
      ],
      "execution_count": 0,
      "outputs": [
        {
          "output_type": "stream",
          "text": [
            "4\n"
          ],
          "name": "stdout"
        }
      ]
    },
    {
      "metadata": {
        "id": "0bsERNEWZMqC",
        "colab_type": "code",
        "outputId": "7551ca41-66d5-417f-9c36-be1bc18cbab7",
        "colab": {
          "base_uri": "https://localhost:8080/",
          "height": 34
        }
      },
      "cell_type": "code",
      "source": [
        "# Por ser um dicionário, essa busca não é sequencial\n",
        "\"aluno3\" in boletim"
      ],
      "execution_count": 0,
      "outputs": [
        {
          "output_type": "execute_result",
          "data": {
            "text/plain": [
              "True"
            ]
          },
          "metadata": {
            "tags": []
          },
          "execution_count": 33
        }
      ]
    },
    {
      "metadata": {
        "id": "YTkejIhzZiDC",
        "colab_type": "code",
        "outputId": "d404c09a-5215-4fc7-b8b9-d6401a548782",
        "colab": {
          "base_uri": "https://localhost:8080/",
          "height": 34
        }
      },
      "cell_type": "code",
      "source": [
        "# Tratamento do erro da falta da chave no dicionário\n",
        "\n",
        "try:\n",
        "  print (boletim[\"João\"])\n",
        "except (KeyError):\n",
        "  print (\"Aluno não encontrado\")"
      ],
      "execution_count": 0,
      "outputs": [
        {
          "output_type": "stream",
          "text": [
            "Aluno não encontrado\n"
          ],
          "name": "stdout"
        }
      ]
    },
    {
      "metadata": {
        "id": "cQrxaj7UaonO",
        "colab_type": "code",
        "outputId": "14bcb4f9-d7ae-4a37-8c73-cf549cb3a52e",
        "colab": {
          "base_uri": "https://localhost:8080/",
          "height": 34
        }
      },
      "cell_type": "code",
      "source": [
        "# Trabalhando com tuplas\n",
        "# São elementos fixos para fazer associações entre dois elementos\n",
        "# Um exemplo seria para o nome e sobrenome de alunos e isso ser usado como\n",
        "# uma chave de um dicionário de notas\n",
        "\n",
        "tupla = (1, 2)\n",
        "tupla"
      ],
      "execution_count": 0,
      "outputs": [
        {
          "output_type": "execute_result",
          "data": {
            "text/plain": [
              "(1, 2)"
            ]
          },
          "metadata": {
            "tags": []
          },
          "execution_count": 35
        }
      ]
    },
    {
      "metadata": {
        "id": "oS7hYsOIa9m6",
        "colab_type": "code",
        "outputId": "77be04f4-9c5a-4d78-c664-bfed21a8fd46",
        "colab": {
          "base_uri": "https://localhost:8080/",
          "height": 34
        }
      },
      "cell_type": "code",
      "source": [
        "# Usando uma tupla como chave de um dicionário\n",
        "\n",
        "aluno = (\"André\", \"Vieira\")\n",
        "notas = {\n",
        "    aluno : 5\n",
        "}\n",
        "\n",
        "print (notas[aluno])"
      ],
      "execution_count": 0,
      "outputs": [
        {
          "output_type": "stream",
          "text": [
            "5\n"
          ],
          "name": "stdout"
        }
      ]
    },
    {
      "metadata": {
        "id": "tdfCTx_EbaHO",
        "colab_type": "code",
        "outputId": "ddd7d20b-a833-449c-b823-5281d9ea6f4f",
        "colab": {
          "base_uri": "https://localhost:8080/",
          "height": 34
        }
      },
      "cell_type": "code",
      "source": [
        "# Conjuntos parecem listas, mas são definidos como chaves em vez de colchetes\n",
        "# Em conjuntos, os elementos não tem repetições\n",
        "# Logo, um conjunto pode ser utilizado para retirar repetições de listas\n",
        "\n",
        "conjunto = {1, 2, 3, 3}\n",
        "\n",
        "conjunto"
      ],
      "execution_count": 0,
      "outputs": [
        {
          "output_type": "execute_result",
          "data": {
            "text/plain": [
              "{1, 2, 3}"
            ]
          },
          "metadata": {
            "tags": []
          },
          "execution_count": 41
        }
      ]
    },
    {
      "metadata": {
        "id": "Z9gCqqtpb0xc",
        "colab_type": "code",
        "outputId": "4a5b1adc-d215-465b-c3a4-9c7830d2c9dd",
        "colab": {
          "base_uri": "https://localhost:8080/",
          "height": 34
        }
      },
      "cell_type": "code",
      "source": [
        "# Posso criar um conjunto a partir de uma lista. Quando faço isso, ele retira as\n",
        "# repetições e ordena a lista. A ordenação é uma característica de com o python\n",
        "# armazena na memória, mas isso não deve ser utilizado, pq pode mudar.\n",
        "\n",
        "# Conjuntos, não possuem ordenação, nem repetição. Servem para retirar repetições\n",
        "# e fazer buscas de maneira mais eficiente\n",
        "\n",
        "lista.append(3)\n",
        "lista.append(7)\n",
        "\n",
        "conjunto2 = set (lista)\n",
        "conjunto2"
      ],
      "execution_count": 0,
      "outputs": [
        {
          "output_type": "execute_result",
          "data": {
            "text/plain": [
              "{1, 2, 3, 4, 5, 6, 7}"
            ]
          },
          "metadata": {
            "tags": []
          },
          "execution_count": 46
        }
      ]
    },
    {
      "metadata": {
        "id": "VLgKjtRMcgj4",
        "colab_type": "code",
        "outputId": "b9f77b66-b2da-45b0-eb67-943d2a5747ba",
        "colab": {
          "base_uri": "https://localhost:8080/",
          "height": 34
        }
      },
      "cell_type": "code",
      "source": [
        "3 in conjunto2\n"
      ],
      "execution_count": 0,
      "outputs": [
        {
          "output_type": "execute_result",
          "data": {
            "text/plain": [
              "True"
            ]
          },
          "metadata": {
            "tags": []
          },
          "execution_count": 49
        }
      ]
    }
  ]
}