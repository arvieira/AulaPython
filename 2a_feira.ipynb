{
  "nbformat": 4,
  "nbformat_minor": 0,
  "metadata": {
    "colab": {
      "name": "2a_feira.ipynb",
      "version": "0.3.2",
      "provenance": [],
      "include_colab_link": true
    },
    "kernelspec": {
      "display_name": "py36",
      "language": "python",
      "name": "py36"
    }
  },
  "cells": [
    {
      "cell_type": "markdown",
      "metadata": {
        "id": "view-in-github",
        "colab_type": "text"
      },
      "source": [
        "<a href=\"https://colab.research.google.com/github/arvieira/AulaPython/blob/master/2a_feira.ipynb\" target=\"_parent\"><img src=\"https://colab.research.google.com/assets/colab-badge.svg\" alt=\"Open In Colab\"/></a>"
      ]
    },
    {
      "metadata": {
        "id": "j65bvLSOaY1z",
        "colab_type": "text"
      },
      "cell_type": "markdown",
      "source": [
        "<br/><br/><br/><br/>\n",
        "<br/><br/>\n",
        "\n",
        "***\n",
        "\n",
        "<br/>\n",
        "\n",
        "<h1 align=\"center\">\n",
        "<font size=\"40pt\">Nivelamento em Programação</font>\n",
        "</h1>\n",
        "\n",
        "<h1 align=\"center\">\n",
        "<font size=\"40pt\">(Python)</font>\n",
        "</h1>\n",
        "\n",
        "<br/><br/><br/><br/>\n",
        "\n",
        "<h1 align=\"right\">\n",
        "Prof.: Danilo S. Carvalho\n",
        "</h1>\n",
        "\n",
        "***\n",
        "\n",
        "<br/><br/><br/><br/>\n",
        "<br/><br/><br/><br/>"
      ]
    },
    {
      "metadata": {
        "id": "sYDTyKJiaY19",
        "colab_type": "text"
      },
      "cell_type": "markdown",
      "source": [
        "# Objetivos da aula\n",
        "\n",
        "<br/>\n",
        "\n",
        "- #### Ensinar conceitos básicos de programação, através da linguagem Python.\n",
        "- #### Apresentar problemas cotidianos e desenvolver soluções usando os conceitos aprendidos.\n",
        "- #### Estender soluções desenvolvidas para novos problemas.\n",
        "\n",
        "<br/><br/>\n",
        "\n",
        "***\n",
        "\n",
        "<br/>"
      ]
    },
    {
      "metadata": {
        "id": "JBqfhMOaaY2A",
        "colab_type": "text"
      },
      "cell_type": "markdown",
      "source": [
        "<h1 align=\"center\">Aula 1</h1>\n",
        "\n",
        "## Conteúdo\n",
        "\n",
        "<br/>\n",
        "\n",
        "- Aula 1:\n",
        "    - Funcionamento básico do computador\n",
        "    - Anatomia de um programa\n",
        "    - Ambiente de trabalho (1): Jupyter Notebook (Google Colab)\n",
        "    - Primeiros passos: instruções\n",
        "    - Operadores básicos\n",
        "    - Variáveis\n",
        "    - Tipos de dados\n",
        "    - Listas\n",
        "    - Problema: Calculando somatórios\n",
        "    - Loops\n",
        "    - Condicionais\n",
        "    - Problema: Encontrando itens\n",
        "    - Problema: Associação de items\n",
        "    - Dicionários\n",
        "    - Biblioteca padrão e documentação da linguagem\n",
        "    \n",
        "<br/>\n",
        "    \n",
        "***\n",
        "\n",
        "<br/>"
      ]
    },
    {
      "metadata": {
        "id": "UmHcQIWyaY2E",
        "colab_type": "text"
      },
      "cell_type": "markdown",
      "source": [
        "## Funcionamento básico do computador"
      ]
    },
    {
      "metadata": {
        "id": "-MvZ5dz9aY2E",
        "colab_type": "text"
      },
      "cell_type": "markdown",
      "source": [
        "#### Um computador é composto basicamente dos seguintes elementos:\n",
        "\n",
        "- ##### Um processador (CPU)\n",
        "- ##### Memória principal (RAM)\n",
        "- ##### Memória secundária\n",
        "- ##### Periféricos (Vídeo, teclado, mouse, impressora, etc.)\n",
        "\n",
        "<br/>\n",
        "\n",
        "[slide](https://docs.google.com/presentation/d/1zaoS5EReM8lc5-OaWWLQ1feph6BYRmu3wOZ1nCzr3bg/edit#slide=id.g310a0b4403_0_58)\n",
        "\n",
        "<br/>\n",
        "\n",
        "##### Tudo o que é realizado no computador acontece na CPU, que obtém e registra dados na memória principal e na memória secundária.\n",
        "\n",
        "##### Os periféricos servem para interação com o computador, seja visualizando ou disponibilizando informações a este.\n",
        "\n",
        "<br/><br/><br/><br/>"
      ]
    },
    {
      "metadata": {
        "id": "ceEGz6RvaY2I",
        "colab_type": "text"
      },
      "cell_type": "markdown",
      "source": [
        "## Anatomia de um programa"
      ]
    },
    {
      "metadata": {
        "id": "z61IIqnIaY2N",
        "colab_type": "text"
      },
      "cell_type": "markdown",
      "source": [
        "#### Um programa de computador consiste em uma sequência de instruções, compreendendo:\n",
        "\n",
        "- ##### Início\n",
        "- ##### Entrada de dados\n",
        "- ##### Operações de manipulação de dados\n",
        "- ##### Saída de dados\n",
        "- ##### Fim\n",
        "\n",
        "<br/>\n",
        "\n",
        "[slide](https://docs.google.com/presentation/d/1zaoS5EReM8lc5-OaWWLQ1feph6BYRmu3wOZ1nCzr3bg/edit#slide=id.g310b2862d2_0_28)\n",
        "\n",
        "\n",
        "###### O processador possui um conjunto limitado de instruções, que devem ser combinadas para atingir o objetivo desejado.\n",
        "\n",
        "###### Escrever código usando instruções do processador é uma tarefa tediosa e pouco intuitiva. Por esse motivo, foram criadas linguagens de programação, como Python.\n",
        "\n",
        "###### A linguagem Python facilita o desenvolvimento de aplicações complexas ao simplificar o acesso à funções poderosas de manipulação de dados, conforme veremos neste curso.\n",
        "\n",
        "<br/><br/>\n",
        "\n",
        "***\n",
        "\n",
        "<br/>"
      ]
    },
    {
      "metadata": {
        "id": "jZBTeN07aY2P",
        "colab_type": "text"
      },
      "cell_type": "markdown",
      "source": [
        "## Ambiente de trabalho (1): Jupyter Notebook (Google Colab)\n"
      ]
    },
    {
      "metadata": {
        "id": "Qg8D2lWKaY2S",
        "colab_type": "text"
      },
      "cell_type": "markdown",
      "source": [
        "[https://colab.research.google.com](https://colab.research.google.com)\n",
        "\n",
        "<br/>\n",
        "\n",
        "Abrir o Colaboratory usando uma conta do Google, e criar um novo notebook \"Python 3\".\n",
        "\n",
        "\n",
        "<br/><br/>\n",
        "\n",
        "***\n",
        "\n",
        "<br/><br/>"
      ]
    },
    {
      "metadata": {
        "id": "nBwPoA9naY2T",
        "colab_type": "text"
      },
      "cell_type": "markdown",
      "source": [
        "## Primeiros passos: instruções"
      ]
    },
    {
      "metadata": {
        "id": "qdTErG6WaY2Y",
        "colab_type": "code",
        "outputId": "a8af1c83-65bf-45cf-da94-a8b45814a562",
        "colab": {}
      },
      "cell_type": "code",
      "source": [
        "1 + 1"
      ],
      "execution_count": 0,
      "outputs": [
        {
          "output_type": "execute_result",
          "data": {
            "text/plain": [
              "2"
            ]
          },
          "metadata": {
            "tags": []
          },
          "execution_count": 19
        }
      ]
    },
    {
      "metadata": {
        "scrolled": true,
        "id": "k3aL5iBjaY2l",
        "colab_type": "code",
        "outputId": "b21fd15b-19a8-48f7-ae4a-9913f537028d",
        "colab": {}
      },
      "cell_type": "code",
      "source": [
        "(2 + 3) * 4"
      ],
      "execution_count": 0,
      "outputs": [
        {
          "output_type": "execute_result",
          "data": {
            "text/plain": [
              "20"
            ]
          },
          "metadata": {
            "tags": []
          },
          "execution_count": 20
        }
      ]
    },
    {
      "metadata": {
        "id": "Tt-utKaraY2w",
        "colab_type": "code",
        "outputId": "ad9e5202-6097-4015-aa6c-608c49074e74",
        "colab": {}
      },
      "cell_type": "code",
      "source": [
        "print(\"Texto\", 1 + 10)"
      ],
      "execution_count": 0,
      "outputs": [
        {
          "output_type": "stream",
          "text": [
            "Texto 11\n"
          ],
          "name": "stdout"
        }
      ]
    },
    {
      "metadata": {
        "id": "DvLRaQZYaY28",
        "colab_type": "code",
        "outputId": "9afc86d4-8cfe-49e7-81f6-9d4929163902",
        "colab": {}
      },
      "cell_type": "code",
      "source": [
        "(2 + 3) * 4\n",
        "print(\"Resultado: \", (2 + 3) * 4)"
      ],
      "execution_count": 0,
      "outputs": [
        {
          "output_type": "stream",
          "text": [
            "Resultado:  20\n"
          ],
          "name": "stdout"
        }
      ]
    },
    {
      "metadata": {
        "id": "Hwr7ht6XaY3G",
        "colab_type": "text"
      },
      "cell_type": "markdown",
      "source": [
        "## Operadores básicos"
      ]
    },
    {
      "metadata": {
        "id": "wyQ_zmvnaY3I",
        "colab_type": "code",
        "outputId": "d2c11617-47a9-4525-db00-d975f45098ce",
        "colab": {}
      },
      "cell_type": "code",
      "source": [
        "2 + 2"
      ],
      "execution_count": 0,
      "outputs": [
        {
          "output_type": "execute_result",
          "data": {
            "text/plain": [
              "4"
            ]
          },
          "metadata": {
            "tags": []
          },
          "execution_count": 23
        }
      ]
    },
    {
      "metadata": {
        "id": "LsQFGDRSaY3U",
        "colab_type": "code",
        "outputId": "8eebe1d3-4f6e-4864-e0e4-f97a6286f041",
        "colab": {}
      },
      "cell_type": "code",
      "source": [
        "3 - 2"
      ],
      "execution_count": 0,
      "outputs": [
        {
          "output_type": "execute_result",
          "data": {
            "text/plain": [
              "1"
            ]
          },
          "metadata": {
            "tags": []
          },
          "execution_count": 24
        }
      ]
    },
    {
      "metadata": {
        "id": "0wLlf1PBaY3b",
        "colab_type": "code",
        "outputId": "d7188fd4-ea6f-4d9e-a12d-e9d93651f0cc",
        "colab": {}
      },
      "cell_type": "code",
      "source": [
        "2 * 5"
      ],
      "execution_count": 0,
      "outputs": [
        {
          "output_type": "execute_result",
          "data": {
            "text/plain": [
              "10"
            ]
          },
          "metadata": {
            "tags": []
          },
          "execution_count": 25
        }
      ]
    },
    {
      "metadata": {
        "id": "nhFBkk5CaY3j",
        "colab_type": "code",
        "outputId": "7eb26f2b-f76c-48fd-e05c-d6d231598cea",
        "colab": {}
      },
      "cell_type": "code",
      "source": [
        "7 / 2"
      ],
      "execution_count": 0,
      "outputs": [
        {
          "output_type": "execute_result",
          "data": {
            "text/plain": [
              "3.5"
            ]
          },
          "metadata": {
            "tags": []
          },
          "execution_count": 26
        }
      ]
    },
    {
      "metadata": {
        "id": "-2czUlh_aY3u",
        "colab_type": "code",
        "outputId": "ccbdf2ec-dad6-4921-fb4f-fe55367c4d26",
        "colab": {}
      },
      "cell_type": "code",
      "source": [
        "1 == 2  # Operador de igualdade"
      ],
      "execution_count": 0,
      "outputs": [
        {
          "output_type": "execute_result",
          "data": {
            "text/plain": [
              "False"
            ]
          },
          "metadata": {
            "tags": []
          },
          "execution_count": 32
        }
      ]
    },
    {
      "metadata": {
        "id": "KSN3pMydaY31",
        "colab_type": "code",
        "outputId": "4d2f3dd3-4547-47da-e6d3-78d891610138",
        "colab": {}
      },
      "cell_type": "code",
      "source": [
        "1 != 2  # Operador de desigualdade"
      ],
      "execution_count": 0,
      "outputs": [
        {
          "output_type": "execute_result",
          "data": {
            "text/plain": [
              "True"
            ]
          },
          "metadata": {
            "tags": []
          },
          "execution_count": 33
        }
      ]
    },
    {
      "metadata": {
        "id": "jH45dzhUaY39",
        "colab_type": "code",
        "outputId": "e826ced9-e554-453d-8e1a-3538623cf0e5",
        "colab": {}
      },
      "cell_type": "code",
      "source": [
        "\"abc\" == \"abc\"  # Strings também são comparáveis"
      ],
      "execution_count": 0,
      "outputs": [
        {
          "output_type": "execute_result",
          "data": {
            "text/plain": [
              "True"
            ]
          },
          "metadata": {
            "tags": []
          },
          "execution_count": 35
        }
      ]
    },
    {
      "metadata": {
        "id": "Nhi_HanLaY4K",
        "colab_type": "code",
        "outputId": "f7e82afd-9b45-4006-819a-4f0d164be5dd",
        "colab": {}
      },
      "cell_type": "code",
      "source": [
        "7 // 2  # Operador de divisão inteira"
      ],
      "execution_count": 0,
      "outputs": [
        {
          "output_type": "execute_result",
          "data": {
            "text/plain": [
              "3"
            ]
          },
          "metadata": {
            "tags": []
          },
          "execution_count": 31
        }
      ]
    },
    {
      "metadata": {
        "id": "xaIOGeycaY4Y",
        "colab_type": "code",
        "outputId": "98c50306-aed5-4b87-e42e-ab4e789a7de0",
        "colab": {}
      },
      "cell_type": "code",
      "source": [
        "5 % 2  # Operador módulo, resto da divisão inteira"
      ],
      "execution_count": 0,
      "outputs": [
        {
          "output_type": "execute_result",
          "data": {
            "text/plain": [
              "1"
            ]
          },
          "metadata": {
            "tags": []
          },
          "execution_count": 30
        }
      ]
    },
    {
      "metadata": {
        "id": "ktee816IaY4i",
        "colab_type": "code",
        "outputId": "52d6f41e-f411-44df-a343-458b0d9d080f",
        "colab": {}
      },
      "cell_type": "code",
      "source": [
        "2 ** 3  # Operador de exponenciação"
      ],
      "execution_count": 0,
      "outputs": [
        {
          "output_type": "execute_result",
          "data": {
            "text/plain": [
              "8"
            ]
          },
          "metadata": {
            "tags": []
          },
          "execution_count": 34
        }
      ]
    },
    {
      "metadata": {
        "id": "llN-D3k9aY4o",
        "colab_type": "text"
      },
      "cell_type": "markdown",
      "source": [
        "## Variáveis"
      ]
    },
    {
      "metadata": {
        "id": "EfOgsyk0aY4p",
        "colab_type": "code",
        "colab": {}
      },
      "cell_type": "code",
      "source": [
        "x = 1"
      ],
      "execution_count": 0,
      "outputs": []
    },
    {
      "metadata": {
        "id": "YIsB-IlQaY40",
        "colab_type": "text"
      },
      "cell_type": "markdown",
      "source": [
        "Variáveis são usadas para armazenar o resultado de alguma operação.\n",
        "\n",
        "Podemos usar o valor armazenado posteriormente."
      ]
    },
    {
      "metadata": {
        "id": "Yiie5xHUaY40",
        "colab_type": "code",
        "colab": {}
      },
      "cell_type": "code",
      "source": [
        "x + 3"
      ],
      "execution_count": 0,
      "outputs": []
    },
    {
      "metadata": {
        "id": "RNP4Ojf9aY43",
        "colab_type": "text"
      },
      "cell_type": "markdown",
      "source": [
        "## Tipos de dados"
      ]
    },
    {
      "metadata": {
        "id": "sbbTTLl4aY44",
        "colab_type": "text"
      },
      "cell_type": "markdown",
      "source": [
        "Cada valor manipulado em um programa python possui um tipo correspondente.\n",
        "\n",
        "Para saber o tipo de um valor ou variável, podemos usar a seguinte instrução:"
      ]
    },
    {
      "metadata": {
        "id": "qO4fRCknaY46",
        "colab_type": "code",
        "outputId": "6855b98f-1811-4404-eefb-b8decded5780",
        "colab": {}
      },
      "cell_type": "code",
      "source": [
        "type(1)"
      ],
      "execution_count": 0,
      "outputs": [
        {
          "output_type": "execute_result",
          "data": {
            "text/plain": [
              "int"
            ]
          },
          "metadata": {
            "tags": []
          },
          "execution_count": 36
        }
      ]
    },
    {
      "metadata": {
        "id": "Xts9YorJaY4-",
        "colab_type": "code",
        "outputId": "be4187c5-b19a-4fcf-f634-9432a169fd33",
        "colab": {}
      },
      "cell_type": "code",
      "source": [
        "type(\"Olá\")"
      ],
      "execution_count": 0,
      "outputs": [
        {
          "output_type": "execute_result",
          "data": {
            "text/plain": [
              "str"
            ]
          },
          "metadata": {
            "tags": []
          },
          "execution_count": 38
        }
      ]
    },
    {
      "metadata": {
        "id": "DiBrYJvmaY5J",
        "colab_type": "code",
        "outputId": "2f38dad3-e05c-44e4-d22c-8445bca6ee50",
        "colab": {}
      },
      "cell_type": "code",
      "source": [
        "type(6 + 3.4)  # O tipo de maior precisão sempre prevalece"
      ],
      "execution_count": 0,
      "outputs": [
        {
          "output_type": "execute_result",
          "data": {
            "text/plain": [
              "float"
            ]
          },
          "metadata": {
            "tags": []
          },
          "execution_count": 40
        }
      ]
    },
    {
      "metadata": {
        "id": "Hh2d2u2QaY5O",
        "colab_type": "text"
      },
      "cell_type": "markdown",
      "source": [
        "Há diversos tipos definidos por padrão em python, cada um com características distintas.\n",
        "Alguns exemplos são:\n",
        "\n",
        "- int: Números inteiros\n",
        "- float: Números reais (ponto flutuante)\n",
        "- str: Sequências de caracteres (string)\n",
        "- bytes: Sequência de dados binários\n",
        "- list: Lista de items de qualquer tipo\n",
        "\n",
        "<br/><br/>\n",
        "\n",
        "***\n",
        "\n",
        "<br/>"
      ]
    },
    {
      "metadata": {
        "id": "fx3cttD2aY5S",
        "colab_type": "text"
      },
      "cell_type": "markdown",
      "source": [
        "## Listas"
      ]
    },
    {
      "metadata": {
        "id": "72GfssIraY5U",
        "colab_type": "text"
      },
      "cell_type": "markdown",
      "source": [
        "São sequências de elementos de qualquer tipo, com ordem definida. "
      ]
    },
    {
      "metadata": {
        "id": "WpCHWSxeaY5V",
        "colab_type": "code",
        "colab": {}
      },
      "cell_type": "code",
      "source": [
        "[1, 2, 3]"
      ],
      "execution_count": 0,
      "outputs": []
    },
    {
      "metadata": {
        "id": "2MBDHKcMaY5X",
        "colab_type": "code",
        "colab": {}
      },
      "cell_type": "code",
      "source": [
        "[\"a\", \"z\", \"x\"]"
      ],
      "execution_count": 0,
      "outputs": []
    },
    {
      "metadata": {
        "scrolled": true,
        "id": "0wg7BrgOaY5c",
        "colab_type": "code",
        "outputId": "851816af-573b-4a58-86b3-bd63c8317865",
        "colab": {}
      },
      "cell_type": "code",
      "source": [
        "l = [1, \"x\", 4.5]\n",
        "l[0]  # Acesso ao primeiro elemento da lista"
      ],
      "execution_count": 0,
      "outputs": [
        {
          "output_type": "execute_result",
          "data": {
            "text/plain": [
              "1"
            ]
          },
          "metadata": {
            "tags": []
          },
          "execution_count": 43
        }
      ]
    },
    {
      "metadata": {
        "id": "uRzSnAfsaY5l",
        "colab_type": "code",
        "outputId": "260ca4ae-4e91-41b6-893b-15076704ea12",
        "colab": {}
      },
      "cell_type": "code",
      "source": [
        "print(l[1])  # Acesso ao segundo elemento da lista\n",
        "print(l[-1]) # Acesso ao último elemento da lista"
      ],
      "execution_count": 0,
      "outputs": [
        {
          "output_type": "stream",
          "text": [
            "x\n",
            "4.5\n"
          ],
          "name": "stdout"
        }
      ]
    },
    {
      "metadata": {
        "id": "iGorS2-TaY5p",
        "colab_type": "text"
      },
      "cell_type": "markdown",
      "source": [
        "<br/><br/>\n",
        "\n",
        "***\n",
        "\n",
        "<br/><br/>"
      ]
    },
    {
      "metadata": {
        "id": "wdB2OwVpaY5q",
        "colab_type": "text"
      },
      "cell_type": "markdown",
      "source": [
        "## Problema: Calculando somatórios"
      ]
    },
    {
      "metadata": {
        "id": "s1XWbPmuaY5r",
        "colab_type": "text"
      },
      "cell_type": "markdown",
      "source": [
        "###### Dado uma lista arbitrária de números \"l\", como podemos fazer para calcular o somatório dos elementos dessa lista? "
      ]
    },
    {
      "metadata": {
        "id": "iarmtCBpaY5t",
        "colab_type": "code",
        "outputId": "8327cfef-6bfc-4ad1-8b3d-cd4c23e8eea8",
        "colab": {}
      },
      "cell_type": "code",
      "source": [
        "l = [3, 5, 1, 4, 15]\n",
        "\n",
        "soma = l[0] + l[1] + l[2] + l[3] + l[4]\n",
        "soma"
      ],
      "execution_count": 0,
      "outputs": [
        {
          "output_type": "execute_result",
          "data": {
            "text/plain": [
              "28"
            ]
          },
          "metadata": {
            "tags": []
          },
          "execution_count": 45
        }
      ]
    },
    {
      "metadata": {
        "id": "dVXI52bxaY5y",
        "colab_type": "text"
      },
      "cell_type": "markdown",
      "source": [
        "<br/><br/>\n",
        "\n",
        "***\n",
        "\n",
        "<br/><br/><br/><br/>"
      ]
    },
    {
      "metadata": {
        "id": "pFx5JsflRXYm",
        "colab_type": "code",
        "colab": {}
      },
      "cell_type": "code",
      "source": [
        ""
      ],
      "execution_count": 0,
      "outputs": []
    },
    {
      "metadata": {
        "id": "IkcmrUnBaY51",
        "colab_type": "text"
      },
      "cell_type": "markdown",
      "source": [
        "## Loops"
      ]
    },
    {
      "metadata": {
        "id": "nbimngydaY53",
        "colab_type": "text"
      },
      "cell_type": "markdown",
      "source": [
        "Quando queremos realizar um mesmo conjunto de operações repetidas vezes, utilizamos instruções de loop, que determinam aquilo o que será repetido e quantas vezes."
      ]
    },
    {
      "metadata": {
        "id": "sQDGpX-2aY54",
        "colab_type": "code",
        "colab": {}
      },
      "cell_type": "code",
      "source": [
        "for x in [3, 4, 5]:\n",
        "    print(x + 2)"
      ],
      "execution_count": 0,
      "outputs": []
    },
    {
      "metadata": {
        "id": "rvXbIJKGaY6B",
        "colab_type": "text"
      },
      "cell_type": "markdown",
      "source": [
        "Solucionando o problema do somatório com loop:"
      ]
    },
    {
      "metadata": {
        "id": "4PdyYwTiaY6F",
        "colab_type": "code",
        "outputId": "7507c269-ab22-4a1c-884c-8bd23c3ad405",
        "colab": {}
      },
      "cell_type": "code",
      "source": [
        "soma = 0\n",
        "for x in l:\n",
        "    soma += x\n",
        "    \n",
        "soma"
      ],
      "execution_count": 0,
      "outputs": [
        {
          "output_type": "execute_result",
          "data": {
            "text/plain": [
              "28"
            ]
          },
          "metadata": {
            "tags": []
          },
          "execution_count": 46
        }
      ]
    },
    {
      "metadata": {
        "id": "wrYNtSO1aY6M",
        "colab_type": "text"
      },
      "cell_type": "markdown",
      "source": [
        "<br/><br/>\n",
        "\n",
        "***\n",
        "\n",
        "<br/><br/><br/><br/>"
      ]
    },
    {
      "metadata": {
        "id": "ohJF-oHIaY6N",
        "colab_type": "text"
      },
      "cell_type": "markdown",
      "source": [
        "## Condicionais"
      ]
    },
    {
      "metadata": {
        "id": "DzyM-lQTaY6N",
        "colab_type": "text"
      },
      "cell_type": "markdown",
      "source": [
        "E quando precisamos tomar uma decisão baseada em um valor conhecido?\n",
        "\n",
        "Usamos as intruções condicionais."
      ]
    },
    {
      "metadata": {
        "id": "7j6_U5SoaY6P",
        "colab_type": "code",
        "colab": {}
      },
      "cell_type": "code",
      "source": [
        "y = 0\n",
        "if (x > 1):\n",
        "    y = y + x\n",
        "else:\n",
        "    y = 1"
      ],
      "execution_count": 0,
      "outputs": []
    },
    {
      "metadata": {
        "id": "nIUg16poaY6W",
        "colab_type": "text"
      },
      "cell_type": "markdown",
      "source": [
        "<br/><br/>\n",
        "\n",
        "***\n",
        "\n",
        "<br/><br/><br/><br/>"
      ]
    },
    {
      "metadata": {
        "id": "w64pXellaY6X",
        "colab_type": "text"
      },
      "cell_type": "markdown",
      "source": [
        "## Problema: Encontrando itens"
      ]
    },
    {
      "metadata": {
        "id": "b625TPceaY6Y",
        "colab_type": "text"
      },
      "cell_type": "markdown",
      "source": [
        "Agora que já sabemos como tomar decisões, podemos resolver o seguinte problema:\n",
        "\n",
        "###### Dada uma lista arbitrária de números e um valor a ser encontrado, determinar se ele está presente na lista e caso sim, em que posição se encontra. "
      ]
    },
    {
      "metadata": {
        "id": "HEvOYKK0aY6a",
        "colab_type": "code",
        "outputId": "fc13ebea-8538-4c28-cbbf-bcc9aa18b189",
        "colab": {}
      },
      "cell_type": "code",
      "source": [
        "pos = 0\n",
        "encontrar = 10\n",
        "achei = False\n",
        "for x in l:\n",
        "    if (x == encontrar):\n",
        "        print(encontrar, \" encontrado na posição \", pos)\n",
        "        achei = True\n",
        "    pos += 1\n",
        "    \n",
        "if (not achei):\n",
        "    print(encontrar, \"Não encontrado na lista\")"
      ],
      "execution_count": 0,
      "outputs": [
        {
          "output_type": "stream",
          "text": [
            "10 Não encontrado na lista\n"
          ],
          "name": "stdout"
        }
      ]
    },
    {
      "metadata": {
        "id": "YDm6LFaAaY6e",
        "colab_type": "text"
      },
      "cell_type": "markdown",
      "source": [
        "Ou então"
      ]
    },
    {
      "metadata": {
        "id": "r47G92iPaY6f",
        "colab_type": "code",
        "outputId": "58871430-a82d-47fd-df39-57ed83f191d3",
        "colab": {}
      },
      "cell_type": "code",
      "source": [
        "pos = 0\n",
        "encontrar = 10\n",
        "\n",
        "for x in l:\n",
        "    if (x == encontrar):\n",
        "        print(encontrar, \" encontrado na posição \", pos)\n",
        "        break\n",
        "    pos += 1\n",
        "    \n",
        "if (pos == len(l)):\n",
        "     print(encontrar, \"Não encontrado na lista\")"
      ],
      "execution_count": 0,
      "outputs": [
        {
          "output_type": "stream",
          "text": [
            "10 Não encontrado na lista\n"
          ],
          "name": "stdout"
        }
      ]
    },
    {
      "metadata": {
        "id": "5ftgPwaPaY6h",
        "colab_type": "text"
      },
      "cell_type": "markdown",
      "source": [
        "<br/><br/>\n",
        "\n",
        "***\n",
        "\n",
        "<br/><br/><br/><br/>"
      ]
    },
    {
      "metadata": {
        "id": "qVdBVdp_aY6l",
        "colab_type": "text"
      },
      "cell_type": "markdown",
      "source": [
        "## Problema: Associação de items"
      ]
    },
    {
      "metadata": {
        "id": "hYf_s4IVaY6n",
        "colab_type": "text"
      },
      "cell_type": "markdown",
      "source": [
        "###### Associar uma lista de alunos e suas notas tal que dado o nome de um aluno, sua nota pode ser encontrada"
      ]
    },
    {
      "metadata": {
        "id": "wsAj1EI1aY6p",
        "colab_type": "code",
        "outputId": "71689f25-066e-49b2-f6e2-d9c5bd516ae5",
        "colab": {}
      },
      "cell_type": "code",
      "source": [
        "alunos = [\"João Canabrava\", \"Paulo Cintura\", \"Galeão Cumbica\", \"Sandoval Quaresma\"]\n",
        "notas = [2.0, 3.0, 5.0, 9.0]\n",
        "\n",
        "encontrar = \"Sandoval Quaresma\"\n",
        "\n",
        "pos = 0\n",
        "for aluno in alunos:\n",
        "    if (aluno == encontrar):\n",
        "        print(\"Nota de \" + encontrar + \": \", notas[pos])\n",
        "        break\n",
        "    pos += 1\n",
        "    \n",
        "if (pos == len(l)):\n",
        "     print(encontrar, \"Não encontrado na lista\")"
      ],
      "execution_count": 0,
      "outputs": [
        {
          "output_type": "stream",
          "text": [
            "Nota de Sandoval Quaresma:  9.0\n"
          ],
          "name": "stdout"
        }
      ]
    },
    {
      "metadata": {
        "id": "Vtf10lcSaY65",
        "colab_type": "text"
      },
      "cell_type": "markdown",
      "source": [
        "<br/><br/>\n",
        "\n",
        "***\n",
        "\n",
        "<br/><br/><br/><br/>"
      ]
    },
    {
      "metadata": {
        "id": "6eXQ_y8qaY66",
        "colab_type": "text"
      },
      "cell_type": "markdown",
      "source": [
        "## Dicionários"
      ]
    },
    {
      "metadata": {
        "id": "3HtkKFIqaY68",
        "colab_type": "text"
      },
      "cell_type": "markdown",
      "source": [
        "Dicionários são um tipo de dado que realizam associações chave -> valor.\n",
        "\n",
        "A busca por uma chave é bastante rápida, permitindo a manipulação de grande quantidade de registros."
      ]
    },
    {
      "metadata": {
        "id": "RCkGBJdTaY68",
        "colab_type": "code",
        "outputId": "f26b1a53-238b-4720-abe1-8cc3c93315ac",
        "colab": {
          "base_uri": "https://localhost:8080/",
          "height": 35
        }
      },
      "cell_type": "code",
      "source": [
        "dicionario = {\"Aluno 1\": 8.0, \"Aluno 2\": 5.0}\n",
        "\n",
        "dicionario"
      ],
      "execution_count": 0,
      "outputs": [
        {
          "output_type": "execute_result",
          "data": {
            "text/plain": [
              "{'Aluno 1': 8.0, 'Aluno 2': 5.0}"
            ]
          },
          "metadata": {
            "tags": []
          },
          "execution_count": 1
        }
      ]
    },
    {
      "metadata": {
        "id": "UeC1tJU3aY6_",
        "colab_type": "text"
      },
      "cell_type": "markdown",
      "source": [
        "Resolvendo o problema de associação com dicionários:"
      ]
    },
    {
      "metadata": {
        "id": "GF4Apb5PaY6_",
        "colab_type": "code",
        "outputId": "04160fed-c51b-4de8-b662-537360c611fb",
        "colab": {}
      },
      "cell_type": "code",
      "source": [
        "boletim = {\n",
        "    \"João Canabrava\": 2.0, \n",
        "    \"Paulo Cintura\": 3.0, \n",
        "    \"Galeão Cumbica\": 5.0, \n",
        "    \"Sandoval Quaresma\": 9.0\n",
        "}\n",
        "\n",
        "boletim[\"João Canabrava\"]"
      ],
      "execution_count": 0,
      "outputs": [
        {
          "output_type": "execute_result",
          "data": {
            "text/plain": [
              "2.0"
            ]
          },
          "metadata": {
            "tags": []
          },
          "execution_count": 60
        }
      ]
    },
    {
      "metadata": {
        "id": "Et7Mx8hmaY7C",
        "colab_type": "text"
      },
      "cell_type": "markdown",
      "source": [
        "<br/><br/>\n",
        "\n",
        "***\n",
        "\n",
        "<br/><br/><br/><br/>"
      ]
    },
    {
      "metadata": {
        "id": "BRNGB1-IaY7G",
        "colab_type": "text"
      },
      "cell_type": "markdown",
      "source": [
        "## Biblioteca padrão e documentação da linguagem"
      ]
    },
    {
      "metadata": {
        "id": "1yoIyCMcaY7J",
        "colab_type": "text"
      },
      "cell_type": "markdown",
      "source": [
        "[https://docs.python.org/3/](https://docs.python.org/3/)"
      ]
    },
    {
      "metadata": {
        "id": "9Lgo5SzcaY7K",
        "colab_type": "text"
      },
      "cell_type": "markdown",
      "source": [
        "Tutorial\n",
        "\n",
        "https://docs.python.org/3/tutorial/index.html"
      ]
    }
  ]
}